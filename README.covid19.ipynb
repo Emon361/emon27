# 🦠 COVID-19 Data Analysis & Visualization with Python

This project analyzes the global COVID-19 pandemic using real-world data. It includes data preprocessing, descriptive and comparative analysis, trend forecasting, clustering, and rich visualizations.

## 📁 Dataset

The dataset used is covid_19_clean_complete.csv, which contains daily records of confirmed cases, deaths, and recoveries by country and date.

Source: Dataset provided in coursework / project

---

## 📊 Key Analyses Performed

### ✅ Data Understanding
- Checked for missing values and duplicates
- Verified and corrected data types
- Ensured time-series structure via the Date column

### ✅ Descriptive Analysis
- Total confirmed cases, deaths, and recoveries by country
- Time trends for specific countries (e.g., India, USA)
- Geographical distribution and per-capita metrics

### ✅ Comparative Analysis
- Highest vs. lowest affected countries
- Correlation between testing and confirmed cases
- Recovery vs. death rate comparison

### ✅ Predictive Modeling
- Linear regression to forecast future cases (India)
- Time-series plots for trend prediction

### ✅ Visualizations
- 📈 Line charts of confirmed/deaths over time
- 📊 Bar chart of top 10 countries by severity
- 🥧 Pie chart showing global distribution
- 🌍 Heatmap using Plotly for geographic spread

### ✅ Advanced Analysis
- K-Means clustering of countries based on case severity
- Population-adjusted risk factor analysis
- Correlation between confirmed cases and deaths

---

## 📦 Python Libraries Used

- pandas
- numpy
- matplotlib
- seaborn
- plotly
- sklearn
- datetime

---

## 📁 Project Structure
